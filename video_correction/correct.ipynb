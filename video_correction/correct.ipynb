{
 "cells": [
  {
   "cell_type": "code",
   "execution_count": 1,
   "metadata": {},
   "outputs": [],
   "source": [
    "import cv2\n",
    "import numpy as np\n",
    "import time\n",
    "import matplotlib.pyplot as plt\n",
    "%matplotlib inline\n",
    "from scipy import ndimage"
   ]
  },
  {
   "cell_type": "code",
   "execution_count": 2,
   "metadata": {},
   "outputs": [],
   "source": [
    "def gamma_correction(img, gamma):\n",
    "    gamma_cvt = np.array([[255 * (float(i)/255) ** (1.0/gamma)] for i in range(256)], dtype = 'uint8')\n",
    "    return cv2.LUT(img, gamma_cvt)"
   ]
  },
  {
   "cell_type": "code",
   "execution_count": 3,
   "metadata": {},
   "outputs": [],
   "source": [
    "def contrast_correction(img, c):\n",
    "    contrast_cvt = np.array([255.0 / (1 + np.exp(-c * (i - 128) / 255)) for i in np.arange(0, 256)], dtype =\"uint8\")\n",
    "    return cv2.LUT(img, contrast_cvt)"
   ]
  },
  {
   "cell_type": "code",
   "execution_count": 4,
   "metadata": {},
   "outputs": [],
   "source": [
    "def edge_detection(img, ksize):\n",
    "    img = np.array(img,dtype='int')-np.array(cv2.GaussianBlur(img, (ksize,ksize), 0),dtype='int')\n",
    "    return np.array(np.clip(img,0,255),dtype='uint8')"
   ]
  },
  {
   "cell_type": "code",
   "execution_count": 30,
   "metadata": {},
   "outputs": [],
   "source": [
    "def clahe(img, tilesize):\n",
    "    hsv = cv2.cvtColor(frame, cv2.COLOR_BGR2HSV)\n",
    "    h,s,v = cv2.split(hsv)\n",
    "    clahe = cv2.createCLAHE(clipLimit=2.0, tileGridSize=(tilesize,tilesize))\n",
    "    v = clahe.apply(v)\n",
    "    hsv = cv2.merge((h,s,v))\n",
    "    return cv2.cvtColor(hsv, cv2.COLOR_HSV2BGR)"
   ]
  },
  {
   "cell_type": "code",
   "execution_count": 5,
   "metadata": {},
   "outputs": [],
   "source": [
    "def edge_emphasize(img, ksize, k):\n",
    "    img = (1+k)*np.array(img,dtype='int')-k*np.array(cv2.GaussianBlur(img, (ksize,ksize), 0),dtype='int')\n",
    "    return np.array(np.clip(img, 0, 255),dtype='uint8')"
   ]
  },
  {
   "cell_type": "code",
   "execution_count": 31,
   "metadata": {},
   "outputs": [],
   "source": [
    "def bilateral(img):\n",
    "    return cv2.bilateralFilter(frame, 15, 20, 20)"
   ]
  },
  {
   "cell_type": "code",
   "execution_count": 32,
   "metadata": {},
   "outputs": [],
   "source": [
    "def nlmf(img):\n",
    "    return cv2.fastNlMeansDenoisingColored(frame,None,10,10,7,21)"
   ]
  },
  {
   "cell_type": "code",
   "execution_count": 33,
   "metadata": {},
   "outputs": [],
   "source": [
    "def filter2D(img):\n",
    "    kernel = np.array([[0,-1,0], [-1,5,-1], [0,-1,0]], np.float32)\n",
    "    return cv2.filter2D(frame, -1, kernel)"
   ]
  },
  {
   "cell_type": "code",
   "execution_count": 36,
   "metadata": {},
   "outputs": [
    {
     "name": "stdout",
     "output_type": "stream",
     "text": [
      "end\n"
     ]
    }
   ],
   "source": [
    "in_video = cv2.VideoCapture(\"video.mov\")\n",
    "\n",
    "width = int(in_video.get(cv2.CAP_PROP_FRAME_WIDTH))\n",
    "height = int(in_video.get(cv2.CAP_PROP_FRAME_HEIGHT))\n",
    "size = (width, height)\n",
    "frame_count = int(in_video.get(cv2.CAP_PROP_FRAME_COUNT))\n",
    "frame_rate = int(in_video.get(cv2.CAP_PROP_FPS))\n",
    "\n",
    "fourcc = cv2.VideoWriter_fourcc('m', 'p', '4', 'v')\n",
    "out_video = cv2.VideoWriter(\"output.mov\", fourcc, frame_rate, size)\n",
    "\n",
    "while in_video.isOpened():\n",
    "    ret, frame = in_video.read()\n",
    "    # 最後まで読み切ったら終了\n",
    "    if not ret:\n",
    "        break\n",
    "    \n",
    "    frame = gamma_correction(frame, 2.0)\n",
    "    \n",
    "    frame = clahe(frame,7)\n",
    "    \n",
    "    frame = filter2D(frame)\n",
    "    \n",
    "    frame = edge_emphasize(frame, 5, 5)\n",
    "    \n",
    "    frame = bilateral(frame)\n",
    "    \n",
    "    frame = nlmf(frame)\n",
    "\n",
    "    out_video.write(frame)\n",
    "    \n",
    "in_video.release()\n",
    "out_video.release()\n",
    "cv2.destroyAllWindows() \n",
    "print(\"end\")\n"
   ]
  }
 ],
 "metadata": {
  "kernelspec": {
   "display_name": "Python 3",
   "language": "python",
   "name": "python3"
  },
  "language_info": {
   "codemirror_mode": {
    "name": "ipython",
    "version": 3
   },
   "file_extension": ".py",
   "mimetype": "text/x-python",
   "name": "python",
   "nbconvert_exporter": "python",
   "pygments_lexer": "ipython3",
   "version": "3.6.9"
  }
 },
 "nbformat": 4,
 "nbformat_minor": 2
}
