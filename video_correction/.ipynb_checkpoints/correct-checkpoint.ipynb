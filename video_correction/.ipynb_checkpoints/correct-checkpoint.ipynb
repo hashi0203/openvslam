{
 "cells": [
  {
   "cell_type": "code",
   "execution_count": 1,
   "metadata": {},
   "outputs": [],
   "source": [
    "import cv2\n",
    "import numpy as np\n",
    "import time\n",
    "import matplotlib.pyplot as plt\n",
    "%matplotlib inline\n",
    "from scipy import ndimage"
   ]
  },
  {
   "cell_type": "code",
   "execution_count": 2,
   "metadata": {},
   "outputs": [],
   "source": [
    "def gamma_correction(img, gamma):\n",
    "    gamma_cvt = np.array([[255 * (float(i)/255) ** (1.0/gamma)] for i in range(256)], dtype = 'uint8')\n",
    "    return cv2.LUT(img, gamma_cvt)"
   ]
  },
  {
   "cell_type": "code",
   "execution_count": 3,
   "metadata": {},
   "outputs": [],
   "source": [
    "def contrast_correction(img, c):\n",
    "    contrast_cvt = np.array([255.0 / (1 + np.exp(-c * (i - 128) / 255)) for i in np.arange(0, 256)], dtype =\"uint8\")\n",
    "    return cv2.LUT(img, contrast_cvt)"
   ]
  },
  {
   "cell_type": "code",
   "execution_count": 4,
   "metadata": {},
   "outputs": [],
   "source": [
    "def edge_detection(img, ksize):\n",
    "    img = np.array(img,dtype='int')-np.array(cv2.GaussianBlur(img, (ksize,ksize), 0),dtype='int')\n",
    "    return np.array(np.clip(img,0,255),dtype='uint8')"
   ]
  },
  {
   "cell_type": "code",
   "execution_count": 30,
   "metadata": {},
   "outputs": [],
   "source": [
    "def clahe(img, tilesize):\n",
    "    hsv = cv2.cvtColor(frame, cv2.COLOR_BGR2HSV)\n",
    "    h,s,v = cv2.split(hsv)\n",
    "    clahe = cv2.createCLAHE(clipLimit=2.0, tileGridSize=(tilesize,tilesize))\n",
    "    v = clahe.apply(v)\n",
    "    hsv = cv2.merge((h,s,v))\n",
    "    return cv2.cvtColor(hsv, cv2.COLOR_HSV2BGR)"
   ]
  },
  {
   "cell_type": "code",
   "execution_count": 5,
   "metadata": {},
   "outputs": [],
   "source": [
    "def edge_emphasize(img, ksize, k):\n",
    "    img = (1+k)*np.array(img,dtype='int')-k*np.array(cv2.GaussianBlur(img, (ksize,ksize), 0),dtype='int')\n",
    "    return np.array(np.clip(img, 0, 255),dtype='uint8')"
   ]
  },
  {
   "cell_type": "code",
   "execution_count": null,
   "metadata": {},
   "outputs": [],
   "source": [
    "def bilateral(img):\n",
    "    return cv2.bilateralFilter(frame, 15, 20, 20)"
   ]
  },
  {
   "cell_type": "code",
   "execution_count": null,
   "metadata": {},
   "outputs": [],
   "source": [
    "def nlmf(img):\n",
    "    return cv2.fastNlMeansDenoisingColored(frame,None,10,10,7,21)"
   ]
  },
  {
   "cell_type": "code",
   "execution_count": null,
   "metadata": {},
   "outputs": [],
   "source": [
    "def filter2D(img):\n",
    "    kernel = np.array([[0,-1,0], [-1,5,-1], [0,-1,0]], np.float32)\n",
    "    return cv2.filter2D(frame, -1, kernel)"
   ]
  },
  {
   "cell_type": "code",
   "execution_count": 29,
   "metadata": {},
   "outputs": [
    {
     "name": "stdout",
     "output_type": "stream",
     "text": [
      "end\n"
     ]
    }
   ],
   "source": [
    "in_video = cv2.VideoCapture(\"video.mov\")\n",
    "\n",
    "width = int(in_video.get(cv2.CAP_PROP_FRAME_WIDTH))\n",
    "height = int(in_video.get(cv2.CAP_PROP_FRAME_HEIGHT))\n",
    "size = (width, height)\n",
    "frame_count = int(in_video.get(cv2.CAP_PROP_FRAME_COUNT))\n",
    "frame_rate = int(in_video.get(cv2.CAP_PROP_FPS))\n",
    "\n",
    "fourcc = cv2.VideoWriter_fourcc('m', 'p', '4', 'v')\n",
    "out_video = cv2.VideoWriter(\"output.mov\", fourcc, frame_rate, size)\n",
    "\n",
    "while in_video.isOpened():\n",
    "    ret, frame = in_video.read()\n",
    "    # 最後まで読み切ったら終了\n",
    "    if not ret:\n",
    "        break\n",
    "        \n",
    "#     hsv = cv2.cvtColor(frame, cv2.COLOR_BGR2HSV)\n",
    "#     h,s,v = cv2.split(hsv)\n",
    "#     clahe = cv2.createCLAHE(clipLimit=2.0, tileGridSize=(7,7))\n",
    "#     v = clahe.apply(v)\n",
    "#     hsv = cv2.merge((h,s,v))\n",
    "#     frame = cv2.cvtColor(hsv, cv2.COLOR_HSV2BGR)\n",
    "    \n",
    "    frame = gamma_correction(frame, 2.0)\n",
    "    \n",
    "    frame = clahe(frame,7)\n",
    "    \n",
    "#     kernel = np.array([[-1,-1,-1], [-1,9,-1], [-1,-1,-1]], np.float32)\n",
    "    kernel = np.array([[0,-1,0], [-1,5,-1], [0,-1,0]], np.float32)\n",
    "\n",
    "    frame = cv2.filter2D(frame, -1, kernel)\n",
    "    \n",
    "    frame = cv2.bilateralFilter(frame, 15, 20, 20)\n",
    "#     frame = cv2.bilateralFilter(frame, 15, 20, 20)\n",
    "\n",
    "    \n",
    "#     frame = cv2.fastNlMeansDenoisingColored(frame,None,10,10,7,21)\n",
    "\n",
    "    out_video.write(frame)\n",
    "    \n",
    "in_video.release()\n",
    "out_video.release()\n",
    "cv2.destroyAllWindows() \n",
    "print(\"end\")\n"
   ]
  },
  {
   "cell_type": "code",
   "execution_count": 57,
   "metadata": {},
   "outputs": [
    {
     "name": "stdout",
     "output_type": "stream",
     "text": [
      "end\n"
     ]
    }
   ],
   "source": [
    "in_video = cv2.VideoCapture(\"video.mov\")\n",
    "\n",
    "width = int(in_video.get(cv2.CAP_PROP_FRAME_WIDTH))\n",
    "height = int(in_video.get(cv2.CAP_PROP_FRAME_HEIGHT))\n",
    "size = (width, height)\n",
    "frame_count = int(in_video.get(cv2.CAP_PROP_FRAME_COUNT))\n",
    "frame_rate = int(in_video.get(cv2.CAP_PROP_FPS))\n",
    "\n",
    "fourcc = cv2.VideoWriter_fourcc('m', 'p', '4', 'v')\n",
    "out_video = cv2.VideoWriter(\"output.mov\", fourcc, frame_rate, size)\n",
    "\n",
    "while in_video.isOpened():\n",
    "    ret, frame = in_video.read()\n",
    "    # 最後まで読み切ったら終了\n",
    "    if not ret:\n",
    "        break\n",
    "        \n",
    "#     hsv = cv2.cvtColor(frame, cv2.COLOR_BGR2HSV)\n",
    "#     h,s,v = cv2.split(hsv)\n",
    "#     gamma = 1 / np.sqrt(frame.mean()) * 13\n",
    "    frame = gamma_correction(frame, 2)\n",
    "    \n",
    "    frame = 255-frame\n",
    "    \n",
    "#     frame = contrast_correction(frame, 20)\n",
    "    \n",
    "\n",
    "    out_video.write(frame)\n",
    "    \n",
    "in_video.release()\n",
    "out_video.release()\n",
    "cv2.destroyAllWindows() \n",
    "print(\"end\")\n"
   ]
  },
  {
   "cell_type": "code",
   "execution_count": 142,
   "metadata": {},
   "outputs": [
    {
     "name": "stdout",
     "output_type": "stream",
     "text": [
      "end\n"
     ]
    }
   ],
   "source": [
    "in_video = cv2.VideoCapture(\"video.mov\")\n",
    "\n",
    "width = int(in_video.get(cv2.CAP_PROP_FRAME_WIDTH))\n",
    "height = int(in_video.get(cv2.CAP_PROP_FRAME_HEIGHT))\n",
    "size = (width, height)\n",
    "frame_count = int(in_video.get(cv2.CAP_PROP_FRAME_COUNT))\n",
    "frame_rate = int(in_video.get(cv2.CAP_PROP_FPS))\n",
    "\n",
    "fourcc = cv2.VideoWriter_fourcc('m', 'p', '4', 'v')\n",
    "out_video = cv2.VideoWriter(\"output.mov\", fourcc, frame_rate, size)\n",
    "\n",
    "i = 1\n",
    "while in_video.isOpened():\n",
    "    ret, frame = in_video.read()\n",
    "    # 最後まで読み切ったら終了\n",
    "    if not ret:\n",
    "        break\n",
    "        \n",
    "# #     hsv = cv2.cvtColor(frame, cv2.COLOR_BGR2HSV)\n",
    "# #     h,s,v = cv2.split(hsv)\n",
    "# #     gamma = 1 / np.sqrt(frame.mean()) * 13\n",
    "#     frame = gamma_correction(frame, 2)\n",
    "    \n",
    "#     frame = 255-frame\n",
    "    \n",
    "# #     frame = contrast_correction(frame, 20)\n",
    "    \n",
    "\n",
    "#     out_video.write(frame)\n",
    "    frame = gamma_correction(frame, 2)\n",
    "    cv2.imwrite('images/output'+str(i)+'.png',frame)\n",
    "    i += 1\n",
    "    \n",
    "in_video.release()\n",
    "out_video.release()\n",
    "cv2.destroyAllWindows() \n",
    "print(\"end\")"
   ]
  },
  {
   "cell_type": "code",
   "execution_count": 134,
   "metadata": {},
   "outputs": [
    {
     "ename": "KeyboardInterrupt",
     "evalue": "",
     "output_type": "error",
     "traceback": [
      "\u001b[0;31m---------------------------------------------------------------------------\u001b[0m",
      "\u001b[0;31mKeyboardInterrupt\u001b[0m                         Traceback (most recent call last)",
      "\u001b[0;32m<ipython-input-134-f070c438175a>\u001b[0m in \u001b[0;36m<module>\u001b[0;34m()\u001b[0m\n\u001b[1;32m     33\u001b[0m     \u001b[0mframe\u001b[0m \u001b[0;34m=\u001b[0m \u001b[0mcv2\u001b[0m\u001b[0;34m.\u001b[0m\u001b[0mcvtColor\u001b[0m\u001b[0;34m(\u001b[0m\u001b[0mhsv\u001b[0m\u001b[0;34m,\u001b[0m \u001b[0mcv2\u001b[0m\u001b[0;34m.\u001b[0m\u001b[0mCOLOR_HSV2BGR\u001b[0m\u001b[0;34m)\u001b[0m\u001b[0;34m\u001b[0m\u001b[0;34m\u001b[0m\u001b[0m\n\u001b[1;32m     34\u001b[0m \u001b[0;34m\u001b[0m\u001b[0m\n\u001b[0;32m---> 35\u001b[0;31m     \u001b[0mframe\u001b[0m \u001b[0;34m=\u001b[0m \u001b[0mcv2\u001b[0m\u001b[0;34m.\u001b[0m\u001b[0mbilateralFilter\u001b[0m\u001b[0;34m(\u001b[0m\u001b[0mframe\u001b[0m\u001b[0;34m,\u001b[0m \u001b[0;36m15\u001b[0m\u001b[0;34m,\u001b[0m \u001b[0;36m20\u001b[0m\u001b[0;34m,\u001b[0m \u001b[0;36m20\u001b[0m\u001b[0;34m)\u001b[0m\u001b[0;34m\u001b[0m\u001b[0;34m\u001b[0m\u001b[0m\n\u001b[0m\u001b[1;32m     36\u001b[0m \u001b[0;34m\u001b[0m\u001b[0m\n\u001b[1;32m     37\u001b[0m     \u001b[0mtt\u001b[0m \u001b[0;34m+=\u001b[0m \u001b[0mtime\u001b[0m\u001b[0;34m.\u001b[0m\u001b[0mtime\u001b[0m\u001b[0;34m(\u001b[0m\u001b[0;34m)\u001b[0m \u001b[0;34m-\u001b[0m \u001b[0mstart\u001b[0m\u001b[0;34m\u001b[0m\u001b[0;34m\u001b[0m\u001b[0m\n",
      "\u001b[0;31mKeyboardInterrupt\u001b[0m: "
     ]
    }
   ],
   "source": [
    "in_video = cv2.VideoCapture(\"video.mov\")\n",
    "\n",
    "width = int(in_video.get(cv2.CAP_PROP_FRAME_WIDTH))\n",
    "height = int(in_video.get(cv2.CAP_PROP_FRAME_HEIGHT))\n",
    "size = (width, height)\n",
    "frame_count = int(in_video.get(cv2.CAP_PROP_FRAME_COUNT))\n",
    "frame_rate = int(in_video.get(cv2.CAP_PROP_FPS))\n",
    "\n",
    "fourcc = cv2.VideoWriter_fourcc('m', 'p', '4', 'v')\n",
    "out_video = cv2.VideoWriter(\"output.mov\", fourcc, frame_rate, size)\n",
    "\n",
    "tt = 0\n",
    "\n",
    "while in_video.isOpened():\n",
    "# for i in range(100):\n",
    "    ret, frame = in_video.read()\n",
    "    # 最後まで読み切ったら終了\n",
    "    if not ret:\n",
    "        break\n",
    "    \n",
    "    start = time.time()\n",
    "    \n",
    "    frame = gamma_correction(frame, 2)\n",
    "#     frame = edge_emphasize(frame,5,5)\n",
    "    frame = cv2.bilateralFilter(frame, 15, 20, 20)\n",
    "#     frame = cv2.bilateralFilter(frame, 15, 20, 20)\n",
    "\n",
    "    hsv = cv2.cvtColor(frame, cv2.COLOR_BGR2HSV)\n",
    "    h,s,v = cv2.split(hsv)\n",
    "    clahe = cv2.createCLAHE(clipLimit=2.0, tileGridSize=(7,7))\n",
    "    v = clahe.apply(v)\n",
    "    hsv = cv2.merge((h,s,v))\n",
    "    frame = cv2.cvtColor(hsv, cv2.COLOR_HSV2BGR)\n",
    "    \n",
    "    frame = cv2.bilateralFilter(frame, 15, 20, 20)\n",
    "    \n",
    "    tt += time.time() - start\n",
    "\n",
    "    out_video.write(frame)\n",
    "    \n",
    "in_video.release()\n",
    "out_video.release()\n",
    "cv2.destroyAllWindows()\n",
    "\n",
    "tt /= 100\n",
    "print(\"elapsed_time:{0}\".format(tt) + \"[sec]\")\n",
    "print(\"end\")"
   ]
  },
  {
   "cell_type": "code",
   "execution_count": 137,
   "metadata": {},
   "outputs": [
    {
     "ename": "KeyboardInterrupt",
     "evalue": "",
     "output_type": "error",
     "traceback": [
      "\u001b[0;31m---------------------------------------------------------------------------\u001b[0m",
      "\u001b[0;31mKeyboardInterrupt\u001b[0m                         Traceback (most recent call last)",
      "\u001b[0;32m<ipython-input-137-c3ecb34443f1>\u001b[0m in \u001b[0;36m<module>\u001b[0;34m()\u001b[0m\n\u001b[1;32m     26\u001b[0m     \u001b[0mframe\u001b[0m \u001b[0;34m=\u001b[0m \u001b[0mcv2\u001b[0m\u001b[0;34m.\u001b[0m\u001b[0mcvtColor\u001b[0m\u001b[0;34m(\u001b[0m\u001b[0mhsv\u001b[0m\u001b[0;34m,\u001b[0m \u001b[0mcv2\u001b[0m\u001b[0;34m.\u001b[0m\u001b[0mCOLOR_HSV2BGR\u001b[0m\u001b[0;34m)\u001b[0m\u001b[0;34m\u001b[0m\u001b[0;34m\u001b[0m\u001b[0m\n\u001b[1;32m     27\u001b[0m \u001b[0;34m\u001b[0m\u001b[0m\n\u001b[0;32m---> 28\u001b[0;31m     \u001b[0mframe\u001b[0m \u001b[0;34m=\u001b[0m \u001b[0mcv2\u001b[0m\u001b[0;34m.\u001b[0m\u001b[0mfastNlMeansDenoisingColored\u001b[0m\u001b[0;34m(\u001b[0m\u001b[0mframe\u001b[0m\u001b[0;34m,\u001b[0m\u001b[0;32mNone\u001b[0m\u001b[0;34m,\u001b[0m\u001b[0;36m10\u001b[0m\u001b[0;34m,\u001b[0m\u001b[0;36m10\u001b[0m\u001b[0;34m,\u001b[0m\u001b[0;36m7\u001b[0m\u001b[0;34m,\u001b[0m\u001b[0;36m21\u001b[0m\u001b[0;34m)\u001b[0m\u001b[0;34m\u001b[0m\u001b[0;34m\u001b[0m\u001b[0m\n\u001b[0m\u001b[1;32m     29\u001b[0m \u001b[0;34m\u001b[0m\u001b[0m\n\u001b[1;32m     30\u001b[0m     \u001b[0mtt\u001b[0m \u001b[0;34m+=\u001b[0m \u001b[0mtime\u001b[0m\u001b[0;34m.\u001b[0m\u001b[0mtime\u001b[0m\u001b[0;34m(\u001b[0m\u001b[0;34m)\u001b[0m \u001b[0;34m-\u001b[0m \u001b[0mstart\u001b[0m\u001b[0;34m\u001b[0m\u001b[0;34m\u001b[0m\u001b[0m\n",
      "\u001b[0;31mKeyboardInterrupt\u001b[0m: "
     ]
    }
   ],
   "source": [
    "in_video = cv2.VideoCapture(\"video.mov\")\n",
    "\n",
    "width = int(in_video.get(cv2.CAP_PROP_FRAME_WIDTH))\n",
    "height = int(in_video.get(cv2.CAP_PROP_FRAME_HEIGHT))\n",
    "size = (width, height)\n",
    "frame_count = int(in_video.get(cv2.CAP_PROP_FRAME_COUNT))\n",
    "frame_rate = int(in_video.get(cv2.CAP_PROP_FPS))\n",
    "\n",
    "fourcc = cv2.VideoWriter_fourcc('m', 'p', '4', 'v')\n",
    "out_video = cv2.VideoWriter(\"output2.mov\", fourcc, frame_rate, size)\n",
    "\n",
    "while in_video.isOpened():\n",
    "# for i in range(100):\n",
    "    ret, frame = in_video.read()\n",
    "    # 最後まで読み切ったら終了\n",
    "    if not ret:\n",
    "        break\n",
    "    \n",
    "    start = time.time()\n",
    "\n",
    "    hsv = cv2.cvtColor(frame, cv2.COLOR_BGR2HSV)\n",
    "    h,s,v = cv2.split(hsv)\n",
    "    clahe = cv2.createCLAHE(clipLimit=2.0, tileGridSize=(7,7))\n",
    "    v = clahe.apply(v)\n",
    "    hsv = cv2.merge((h,s,v))\n",
    "    frame = cv2.cvtColor(hsv, cv2.COLOR_HSV2BGR)\n",
    "\n",
    "    frame = cv2.fastNlMeansDenoisingColored(frame,None,10,10,7,21)\n",
    "    \n",
    "    tt += time.time() - start\n",
    "\n",
    "    out_video.write(frame)\n",
    "    \n",
    "in_video.release()\n",
    "out_video.release()\n",
    "cv2.destroyAllWindows()\n",
    "\n",
    "tt /= 100\n",
    "print(\"elapsed_time:{0}\".format(tt) + \"[sec]\")\n",
    "print(\"end\")"
   ]
  },
  {
   "cell_type": "code",
   "execution_count": 124,
   "metadata": {},
   "outputs": [
    {
     "name": "stdout",
     "output_type": "stream",
     "text": [
      "end\n"
     ]
    }
   ],
   "source": [
    "in_video = cv2.VideoCapture(\"video.mov\")\n",
    "\n",
    "width = int(in_video.get(cv2.CAP_PROP_FRAME_WIDTH))\n",
    "height = int(in_video.get(cv2.CAP_PROP_FRAME_HEIGHT))\n",
    "size = (width, height)\n",
    "frame_count = int(in_video.get(cv2.CAP_PROP_FRAME_COUNT))\n",
    "frame_rate = int(in_video.get(cv2.CAP_PROP_FPS))\n",
    "\n",
    "fourcc = cv2.VideoWriter_fourcc('m', 'p', '4', 'v')\n",
    "out_video = cv2.VideoWriter(\"output3.mov\", fourcc, frame_rate, size)\n",
    "\n",
    "while in_video.isOpened():\n",
    "# for i in range(100):\n",
    "    ret, frame = in_video.read()\n",
    "    # 最後まで読み切ったら終了\n",
    "    if not ret:\n",
    "        break\n",
    "    \n",
    "    frame = gamma_correction(frame, 2)\n",
    "    \n",
    "#     frame = gamma_correction(frame, 2)\n",
    "#     frame = edge_emphasize(frame,5,5)\n",
    "#     frame = cv2.bilateralFilter(frame, 15, 20, 20)\n",
    "#     frame = cv2.bilateralFilter(frame, 15, 20, 20)\n",
    "\n",
    "    frame = cv2.fastNlMeansDenoisingColored(frame,None,10,10,7,21)\n",
    "    \n",
    "    hsv = cv2.cvtColor(frame, cv2.COLOR_BGR2HSV)\n",
    "    h,s,v = cv2.split(hsv)\n",
    "    clahe = cv2.createCLAHE(clipLimit=2.0, tileGridSize=(7,7))\n",
    "    v = clahe.apply(v)\n",
    "    hsv = cv2.merge((h,s,v))\n",
    "    frame = cv2.cvtColor(hsv, cv2.COLOR_HSV2BGR)\n",
    "\n",
    "    out_video.write(frame)\n",
    "    \n",
    "in_video.release()\n",
    "out_video.release()\n",
    "cv2.destroyAllWindows() \n",
    "print(\"end\")"
   ]
  },
  {
   "cell_type": "code",
   "execution_count": 125,
   "metadata": {},
   "outputs": [
    {
     "name": "stdout",
     "output_type": "stream",
     "text": [
      "end\n"
     ]
    }
   ],
   "source": [
    "in_video = cv2.VideoCapture(\"video.mov\")\n",
    "\n",
    "width = int(in_video.get(cv2.CAP_PROP_FRAME_WIDTH))\n",
    "height = int(in_video.get(cv2.CAP_PROP_FRAME_HEIGHT))\n",
    "size = (width, height)\n",
    "frame_count = int(in_video.get(cv2.CAP_PROP_FRAME_COUNT))\n",
    "frame_rate = int(in_video.get(cv2.CAP_PROP_FPS))\n",
    "\n",
    "fourcc = cv2.VideoWriter_fourcc('m', 'p', '4', 'v')\n",
    "out_video = cv2.VideoWriter(\"output4.mov\", fourcc, frame_rate, size)\n",
    "\n",
    "while in_video.isOpened():\n",
    "# for i in range(100):\n",
    "    ret, frame = in_video.read()\n",
    "    # 最後まで読み切ったら終了\n",
    "    if not ret:\n",
    "        break\n",
    "    \n",
    "    hsv = cv2.cvtColor(frame, cv2.COLOR_BGR2HSV)\n",
    "    h,s,v = cv2.split(hsv)\n",
    "    clahe = cv2.createCLAHE(clipLimit=2.0, tileGridSize=(7,7))\n",
    "    v = clahe.apply(v)\n",
    "    hsv = cv2.merge((h,s,v))\n",
    "    frame = cv2.cvtColor(hsv, cv2.COLOR_HSV2BGR)\n",
    "    \n",
    "#     frame = gamma_correction(frame, 2)\n",
    "#     frame = edge_emphasize(frame,5,5)\n",
    "#     frame = cv2.bilateralFilter(frame, 15, 20, 20)\n",
    "#     frame = cv2.bilateralFilter(frame, 15, 20, 20)\n",
    "\n",
    "    frame = cv2.fastNlMeansDenoisingColored(frame,None,10,10,7,21)\n",
    "    \n",
    "    frame = gamma_correction(frame, 2)\n",
    "\n",
    "    out_video.write(frame)\n",
    "    \n",
    "in_video.release()\n",
    "out_video.release()\n",
    "cv2.destroyAllWindows() \n",
    "print(\"end\")"
   ]
  },
  {
   "cell_type": "code",
   "execution_count": 3,
   "metadata": {},
   "outputs": [
    {
     "name": "stdout",
     "output_type": "stream",
     "text": [
      "end\n"
     ]
    }
   ],
   "source": [
    "in_video = cv2.VideoCapture(\"video.mov\")\n",
    "\n",
    "width = int(in_video.get(cv2.CAP_PROP_FRAME_WIDTH))\n",
    "height = int(in_video.get(cv2.CAP_PROP_FRAME_HEIGHT))\n",
    "size = (width, height)\n",
    "frame_count = int(in_video.get(cv2.CAP_PROP_FRAME_COUNT))\n",
    "frame_rate = int(in_video.get(cv2.CAP_PROP_FPS))\n",
    "\n",
    "fourcc = cv2.VideoWriter_fourcc('m', 'p', '4', 'v')\n",
    "out_video = cv2.VideoWriter(\"output5.mov\", fourcc, frame_rate, size)\n",
    "\n",
    "while in_video.isOpened():\n",
    "# for i in range(100):\n",
    "    ret, frame = in_video.read()\n",
    "    # 最後まで読み切ったら終了\n",
    "    if not ret:\n",
    "        break\n",
    "        \n",
    "    frame = cv2.bilateralFilter(frame, 15, 20, 20)\n",
    "\n",
    "    out_video.write(frame)\n",
    "    \n",
    "in_video.release()\n",
    "out_video.release()\n",
    "cv2.destroyAllWindows() \n",
    "print(\"end\")"
   ]
  },
  {
   "cell_type": "code",
   "execution_count": 4,
   "metadata": {},
   "outputs": [
    {
     "name": "stdout",
     "output_type": "stream",
     "text": [
      "end\n"
     ]
    }
   ],
   "source": [
    "in_video = cv2.VideoCapture(\"video.mov\")\n",
    "\n",
    "width = int(in_video.get(cv2.CAP_PROP_FRAME_WIDTH))\n",
    "height = int(in_video.get(cv2.CAP_PROP_FRAME_HEIGHT))\n",
    "size = (width, height)\n",
    "frame_count = int(in_video.get(cv2.CAP_PROP_FRAME_COUNT))\n",
    "frame_rate = int(in_video.get(cv2.CAP_PROP_FPS))\n",
    "\n",
    "fourcc = cv2.VideoWriter_fourcc('m', 'p', '4', 'v')\n",
    "out_video = cv2.VideoWriter(\"output6.mov\", fourcc, frame_rate, size)\n",
    "\n",
    "while in_video.isOpened():\n",
    "# for i in range(100):\n",
    "    ret, frame = in_video.read()\n",
    "    # 最後まで読み切ったら終了\n",
    "    if not ret:\n",
    "        break\n",
    "        \n",
    "    frame = cv2.fastNlMeansDenoisingColored(frame,None,10,10,7,21)\n",
    "\n",
    "    out_video.write(frame)\n",
    "    \n",
    "in_video.release()\n",
    "out_video.release()\n",
    "cv2.destroyAllWindows() \n",
    "print(\"end\")"
   ]
  }
 ],
 "metadata": {
  "kernelspec": {
   "display_name": "Python 3",
   "language": "python",
   "name": "python3"
  },
  "language_info": {
   "codemirror_mode": {
    "name": "ipython",
    "version": 3
   },
   "file_extension": ".py",
   "mimetype": "text/x-python",
   "name": "python",
   "nbconvert_exporter": "python",
   "pygments_lexer": "ipython3",
   "version": "3.6.9"
  }
 },
 "nbformat": 4,
 "nbformat_minor": 2
}
