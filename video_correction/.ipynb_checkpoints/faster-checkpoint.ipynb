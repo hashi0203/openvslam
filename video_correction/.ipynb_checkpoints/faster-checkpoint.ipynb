{
 "cells": [
  {
   "cell_type": "code",
   "execution_count": 37,
   "metadata": {},
   "outputs": [],
   "source": [
    "import cv2\n",
    "import numpy as np\n",
    "import time\n",
    "import matplotlib.pyplot as plt\n",
    "%matplotlib inline\n",
    "from scipy import ndimage"
   ]
  },
  {
   "cell_type": "code",
   "execution_count": 44,
   "metadata": {},
   "outputs": [
    {
     "name": "stdout",
     "output_type": "stream",
     "text": [
      "2831\n"
     ]
    }
   ],
   "source": [
    "path_in = 'realtime_0.mp4'\n",
    "movie = cv2.VideoCapture(path_in)\n",
    "\n",
    "# 動画ファイル保存用の設定\n",
    "frame_count = int(movie.get(cv2.CAP_PROP_FRAME_COUNT))\n",
    "print(frame_count)"
   ]
  },
  {
   "cell_type": "code",
   "execution_count": 47,
   "metadata": {},
   "outputs": [],
   "source": [
    "import cv2\n",
    "\n",
    "# 動画を読み込み、FPSを変更して別名で保存する関数\n",
    "def m_speed_change(path_in, path_out, color_flag):\n",
    "    # 動画読み込みの設定\n",
    "    movie = cv2.VideoCapture(path_in)\n",
    "\n",
    "    # 動画ファイル保存用の設定\n",
    "    frame_count = movie.get(cv2.CAP_PROP_FRAME_COUNT)\n",
    "    scale_factor = frame_count / 2831.0\n",
    "    \n",
    "    fps = int(movie.get(cv2.CAP_PROP_FPS))                                  # 元動画のFPSを取得\n",
    "    fps_new = int(fps * scale_factor)                                       # 動画保存時のFPSはスケールファクターをかける\n",
    "    w = int(movie.get(cv2.CAP_PROP_FRAME_WIDTH))                            # 動画の横幅を取得\n",
    "    h = int(movie.get(cv2.CAP_PROP_FRAME_HEIGHT))                           # 動画の縦幅を取得\n",
    "    fourcc = cv2.VideoWriter_fourcc('m', 'p', '4', 'v')                     # 動画保存時のfourcc設定（mp4用）\n",
    "    video = cv2.VideoWriter(path_out, fourcc, fps_new, (w, h), color_flag)  # 動画の仕様（ファイル名、fourcc, FPS, サイズ）\n",
    "\n",
    "    # ファイルからフレームを1枚ずつ取得して動画処理後に保存する\n",
    "    while True:\n",
    "        ret, frame = movie.read()        # フレームを取得\n",
    "        video.write(frame)               # 動画を保存する\n",
    "        # フレームが取得できない場合はループを抜ける\n",
    "        if not ret:\n",
    "            break\n",
    "    # 撮影用オブジェクトとウィンドウの解放\n",
    "    movie.release()\n",
    "    return\n",
    "\n",
    "path_in = 'realtime_3.mp4'          # 元動画のパス\n",
    "path_out = 'realtime3-2.mp4'      # 保存する動画のパス\n",
    "color_flag = True               # カラー動画はTrue, グレースケール動画はFalse\n",
    "\n",
    "# 動画の再生速度を変更する関数を実行\n",
    "m_speed_change(path_in, path_out, color_flag)"
   ]
  }
 ],
 "metadata": {
  "kernelspec": {
   "display_name": "Python 3",
   "language": "python",
   "name": "python3"
  },
  "language_info": {
   "codemirror_mode": {
    "name": "ipython",
    "version": 3
   },
   "file_extension": ".py",
   "mimetype": "text/x-python",
   "name": "python",
   "nbconvert_exporter": "python",
   "pygments_lexer": "ipython3",
   "version": "3.6.9"
  }
 },
 "nbformat": 4,
 "nbformat_minor": 2
}
